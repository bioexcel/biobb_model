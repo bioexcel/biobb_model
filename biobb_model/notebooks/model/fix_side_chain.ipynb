{
 "cells": [
  {
   "cell_type": "code",
   "execution_count": 1,
   "metadata": {},
   "outputs": [],
   "source": [
    "# Import module to test\n",
    "from model.fix_side_chain import FixSideChain"
   ]
  },
  {
   "cell_type": "code",
   "execution_count": 2,
   "metadata": {},
   "outputs": [],
   "source": [
    "# Create prop dict and inputs/outputs\n",
    "prop = {}\n",
    "input_pdb_path = '../../test/data/model/2ki5.pdb'\n",
    "output_pdb_path = '2ki5_fixed.pdb'"
   ]
  },
  {
   "cell_type": "code",
   "execution_count": 3,
   "metadata": {},
   "outputs": [],
   "source": [
    "#Create and launch bb\n",
    "FixSideChain(input_pdb_path=input_pdb_path,output_pdb_path=output_pdb_path, properties=prop).launch()"
   ]
  },
  {
   "cell_type": "code",
   "execution_count": 4,
   "metadata": {},
   "outputs": [
    {
     "name": "stdout",
     "output_type": "stream",
     "text": [
      "===============================================================================\r\n",
      "=                     MDWeb structure checking utility                        =\r\n",
      "=                      A. Hospital, J.L. Gelpi 2018                           =\r\n",
      "===============================================================================\r\n",
      "\r\n",
      "Running fixside. Options: --fix All \r\n",
      "../../test/data/model/2ki5.pdb\r\n",
      "Structure ../../test/data/model/2ki5.pdb loaded\r\n",
      "Title:  herpes simplex type-1 thymidine kinase in complex with the drug aciclovir at 1.9a resolution\r\n",
      "Experimental method: x-ray diffraction\r\n",
      "Keywords: transferase (phosphotransferase) thymid, transferase (phosphotransferase) thymidine kinase; viridae; ds-dna enveloped viruses; herpesviridae; alphaherpesvirinae antiviral drug (aciclovir)\r\n",
      "Resolution: 1.9 A\r\n",
      "\r\n",
      " Num. models: 1\r\n",
      " Num. chains: 2 (A: Protein, B: Protein)\r\n",
      " Num. residues:  908\r\n",
      " Num. residues with ins. codes:  0\r\n",
      " Num. HETATM residues:  296\r\n",
      " Num. ligands or modified residues:  4\r\n",
      " Num. water mol.:  292\r\n",
      " Num. atoms:  4961\r\n",
      "\r\n",
      "6 Residues with missing side chain atoms found\r\n",
      " MET A46    CG,SD,CE\r\n",
      " PRO A154   CG,CD\r\n",
      " PRO A280   CG,CD\r\n",
      " MET B46    CG,SD,CE\r\n",
      " PRO B154   CG,CD\r\n",
      " ARG B220   CG,CD,NE,CZ,NH1,NH2\r\n",
      "Fixing side chains\r\n",
      "MET A46\r\n",
      "  Adding new atom CG\r\n",
      "  Adding new atom SD\r\n",
      "  Adding new atom CE\r\n",
      "PRO A154\r\n",
      "  Adding new atom CG\r\n",
      "  Adding new atom CD\r\n",
      "PRO A280\r\n",
      "  Adding new atom CG\r\n",
      "  Adding new atom CD\r\n",
      "MET B46\r\n",
      "  Adding new atom CG\r\n",
      "  Adding new atom SD\r\n",
      "  Adding new atom CE\r\n",
      "PRO B154\r\n",
      "  Adding new atom CG\r\n",
      "  Adding new atom CD\r\n",
      "ARG B220\r\n",
      "  Adding new atom CG\r\n",
      "  Adding new atom CD\r\n",
      "  Adding new atom NE\r\n",
      "  Adding new atom CZ\r\n",
      "  Adding new atom NH1\r\n",
      "  Adding new atom NH2\r\n",
      "Fixed 6 side chain(s)\r\n",
      "Checking possible clashes\r\n",
      "No severe clashes detected\r\n",
      "4 Steric apolar clashes detected\r\n",
      " MET A46.CE   VAL A352.CG2    1.843 A\r\n",
      " ARG B220.CZ  SO4 B3.O3       1.597 A\r\n",
      " MET A46.CE   THR A354.O      1.869 A\r\n",
      " MET B46.CE   VAL B352.O      0.921 A\r\n",
      "3 Steric polar_acceptor clashes detected\r\n",
      " MET A46.SD   VAL A352.O      2.171 A\r\n",
      " MET A46.SD   THR A354.O      2.569 A\r\n",
      " MET B46.SD   VAL B352.O      2.291 A\r\n",
      "No polar_donor clashes detected\r\n",
      "No positive clashes detected\r\n",
      "No negative clashes detected\r\n",
      "Structure saved on 2ki5_fixed.pdb\r\n",
      "Final Num. models: 1\r\n",
      "Final Num. chains: 2 (A: Protein, B: Protein)\r\n",
      "Final Num. residues:  908\r\n",
      "Final Num. residues with ins. codes:  0\r\n",
      "Final Num. HETATM residues:  296\r\n",
      "Final Num. ligands or modified residues:  4\r\n",
      "Final Num. water mol.:  292\r\n",
      "Final Num. atoms:  4979\r\n"
     ]
    }
   ],
   "source": [
    "#Show log\n",
    "!cat log.out"
   ]
  },
  {
   "cell_type": "code",
   "execution_count": 5,
   "metadata": {},
   "outputs": [
    {
     "name": "stdout",
     "output_type": "stream",
     "text": [
      "ATOM      1  N   MET A  46      42.224  58.491  28.031  1.00 31.76           N  \n",
      "ATOM      2  CA  MET A  46      42.964  59.788  28.172  1.00 34.85           C  \n",
      "ATOM      3  C   MET A  46      43.978  59.649  29.317  1.00 36.75           C  \n",
      "ATOM      4  O   MET A  46      43.755  58.843  30.241  1.00 40.33           O  \n",
      "ATOM      5  CB  MET A  46      41.991  60.929  28.438  1.00 32.51           C  \n",
      "ATOM      6  CG  MET A  46      42.765  62.235  28.577  1.00 99.00           C  \n",
      "ATOM      7  SD  MET A  46      41.622  63.602  28.894  1.00 99.00           S  \n",
      "ATOM      8  CE  MET A  46      42.777  64.952  29.007  1.00 99.00           C  \n",
      "ATOM      9  N   PRO A  47      45.116  60.391  29.265  1.00 36.24           N  \n",
      "ATOM     10  CA  PRO A  47      46.136  60.304  30.323  1.00 33.42           C  \n",
      "\n"
     ]
    }
   ],
   "source": [
    "#Show result\n",
    "max_lines = 10\n",
    "with open(output_pdb_path) as f:\n",
    "    print(\"\".join([next(f) for x in range(max_lines)]))"
   ]
  },
  {
   "cell_type": "code",
   "execution_count": 6,
   "metadata": {},
   "outputs": [],
   "source": [
    "#Always run nglview with Mozilla Firefox\n",
    "#Might need to run: jupyter-nbextension enable nglview --py --sys-prefix\n",
    "#before launch jupyter-notebook in order to enable nglview command  \n",
    "#Visualize resul with nglview\n",
    "import nglview\n",
    "view1 = nglview.show_file(input_pdb_path)\n",
    "view2 = nglview.show_file(output_pdb_path)\n"
   ]
  },
  {
   "cell_type": "code",
   "execution_count": 7,
   "metadata": {},
   "outputs": [
    {
     "data": {
      "application/vnd.jupyter.widget-view+json": {
       "model_id": "b0b84607835545bdbfc88f64ea068704",
       "version_major": 2,
       "version_minor": 0
      },
      "text/plain": [
       "VBox(children=(NGLWidget(), NGLWidget()))"
      ]
     },
     "metadata": {},
     "output_type": "display_data"
    }
   ],
   "source": [
    "import ipywidgets\n",
    "vbox = ipywidgets.VBox([view1, view2])\n",
    "vbox"
   ]
  },
  {
   "cell_type": "code",
   "execution_count": 8,
   "metadata": {},
   "outputs": [
    {
     "name": "stdout",
     "output_type": "stream",
     "text": [
      "./log.out\r\n",
      "./2ki5_fixed.pdb\r\n",
      "./.ipynb_checkpoints\r\n"
     ]
    }
   ],
   "source": [
    "#Clean the directory\n",
    "!find . ! -iname \"*.ipynb\" -exec rm -rf {} 2>/dev/null \\; -print"
   ]
  },
  {
   "cell_type": "code",
   "execution_count": null,
   "metadata": {},
   "outputs": [],
   "source": []
  }
 ],
 "metadata": {
  "kernelspec": {
   "display_name": "Python 3",
   "language": "python",
   "name": "python3"
  },
  "language_info": {
   "codemirror_mode": {
    "name": "ipython",
    "version": 3
   },
   "file_extension": ".py",
   "mimetype": "text/x-python",
   "name": "python",
   "nbconvert_exporter": "python",
   "pygments_lexer": "ipython3",
   "version": "3.5.5"
  }
 },
 "nbformat": 4,
 "nbformat_minor": 2
}
