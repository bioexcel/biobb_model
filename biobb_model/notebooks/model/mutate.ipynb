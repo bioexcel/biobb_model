{
 "cells": [
  {
   "cell_type": "code",
   "execution_count": 1,
   "metadata": {},
   "outputs": [],
   "source": [
    "# Import module to test\n",
    "from model.mutate import Mutate"
   ]
  },
  {
   "cell_type": "code",
   "execution_count": 2,
   "metadata": {},
   "outputs": [],
   "source": [
    "# Create prop dict and inputs/outputs\n",
    "prop = {'mutation_list': 'Leu49Ile, B:arg51Lys'}\n",
    "input_pdb_path = '../../test/data/model/2ki5.pdb'\n",
    "output_pdb_path = '2ki5_mutated.pdb'"
   ]
  },
  {
   "cell_type": "code",
   "execution_count": 3,
   "metadata": {},
   "outputs": [],
   "source": [
    "#Create and launch bb\n",
    "Mutate(input_pdb_path=input_pdb_path,output_pdb_path=output_pdb_path, properties=prop).launch()"
   ]
  },
  {
   "cell_type": "code",
   "execution_count": 4,
   "metadata": {},
   "outputs": [
    {
     "name": "stdout",
     "output_type": "stream",
     "text": [
      "===============================================================================\r\n",
      "=                     MDWeb structure checking utility                        =\r\n",
      "=                      A. Hospital, J.L. Gelpi 2018                           =\r\n",
      "===============================================================================\r\n",
      "\r\n",
      "Running mutateside. Options: --mut Leu49Ile, B:arg51Lys \r\n",
      "../../test/data/model/2ki5.pdb\r\n",
      "Structure ../../test/data/model/2ki5.pdb loaded\r\n",
      "Title:  herpes simplex type-1 thymidine kinase in complex with the drug aciclovir at 1.9a resolution\r\n",
      "Experimental method: x-ray diffraction\r\n",
      "Keywords: transferase (phosphotransferase) thymid, transferase (phosphotransferase) thymidine kinase; viridae; ds-dna enveloped viruses; herpesviridae; alphaherpesvirinae antiviral drug (aciclovir)\r\n",
      "Resolution: 1.9 A\r\n",
      "\r\n",
      " Num. models: 1\r\n",
      " Num. chains: 2 (A: Protein, B: Protein)\r\n",
      " Num. residues:  908\r\n",
      " Num. residues with ins. codes:  0\r\n",
      " Num. HETATM residues:  296\r\n",
      " Num. ligands or modified residues:  4\r\n",
      " Num. water mol.:  292\r\n",
      " Num. atoms:  4961\r\n",
      "\r\n",
      "Mutations to perform\r\n",
      "*:LEU49ILE\r\n",
      "B:ARG51LYS\r\n",
      "Replacing LEU A49 into ILE\r\n",
      "  Renaming CG to CG1\r\n",
      "  Deleting CD2\r\n",
      "  Adding new atom CG2\r\n",
      "Replacing LEU B49 into ILE\r\n",
      "  Renaming CG to CG1\r\n",
      "  Deleting CD2\r\n",
      "  Adding new atom CG2\r\n",
      "\r\n",
      "Replacing ARG B51 into LYS\r\n",
      "  Deleting NE\r\n",
      "  Deleting CZ\r\n",
      "  Deleting NH1\r\n",
      "  Deleting NH2\r\n",
      "  Adding new atom CE\r\n",
      "  Adding new atom NZ\r\n",
      "\r\n",
      "Checking new clashes\r\n",
      "No severe clashes detected\r\n",
      "4 Steric apolar clashes detected\r\n",
      " ILE A49.CG2  THR A350.OG1    2.815 A\r\n",
      " LYS B51.NZ   ILE B143.CD1    2.319 A\r\n",
      " LYS B51.NZ   LEU B139.CG     2.403 A\r\n",
      " ILE B49.CG2  THR B350.OG1    2.611 A\r\n",
      "No polar_acceptor clashes detected\r\n",
      "No polar_donor clashes detected\r\n",
      "No positive clashes detected\r\n",
      "No negative clashes detected\r\n",
      "Structure saved on 2ki5_mutated.pdb\r\n",
      "Final Num. models: 1\r\n",
      "Final Num. chains: 2 (A: Protein, B: Protein)\r\n",
      "Final Num. residues:  908\r\n",
      "Final Num. residues with ins. codes:  0\r\n",
      "Final Num. HETATM residues:  296\r\n",
      "Final Num. ligands or modified residues:  4\r\n",
      "Final Num. water mol.:  292\r\n",
      "Final Num. atoms:  4959\r\n"
     ]
    }
   ],
   "source": [
    "#Show log\n",
    "!cat log.out"
   ]
  },
  {
   "cell_type": "code",
   "execution_count": 7,
   "metadata": {},
   "outputs": [
    {
     "name": "stdout",
     "output_type": "stream",
     "text": [
      "ATOM      1  N   MET A  46      42.224  58.491  28.031  1.00 31.76           N  \n",
      "ATOM      2  CA  MET A  46      42.964  59.788  28.172  1.00 34.85           C  \n",
      "ATOM      3  C   MET A  46      43.978  59.649  29.317  1.00 36.75           C  \n",
      "ATOM      4  O   MET A  46      43.755  58.843  30.241  1.00 40.33           O  \n",
      "ATOM      5  CB  MET A  46      41.991  60.929  28.438  1.00 32.51           C  \n",
      "ATOM      6  N   PRO A  47      45.116  60.391  29.265  1.00 36.24           N  \n",
      "ATOM      7  CA  PRO A  47      46.136  60.304  30.323  1.00 33.42           C  \n",
      "ATOM      8  C   PRO A  47      45.604  60.613  31.701  1.00 30.60           C  \n",
      "ATOM      9  O   PRO A  47      44.457  61.023  31.857  1.00 29.75           O  \n",
      "ATOM     10  CB  PRO A  47      47.188  61.331  29.889  1.00 34.73           C  \n",
      "\n"
     ]
    }
   ],
   "source": [
    "#Show result\n",
    "max_lines = 10\n",
    "with open(output_pdb_path) as f:\n",
    "    print(\"\".join([next(f) for x in range(max_lines)]))"
   ]
  },
  {
   "cell_type": "code",
   "execution_count": 8,
   "metadata": {},
   "outputs": [],
   "source": [
    "#Always run nglview with Mozilla Firefox\n",
    "#Might need to run: jupyter-nbextension enable nglview --py --sys-prefix\n",
    "#before launch jupyter-notebook in order to enable nglview command  \n",
    "#Visualize resul with nglview\n",
    "import nglview\n",
    "view1 = nglview.show_file(input_pdb_path)\n",
    "view2 = nglview.show_file(output_pdb_path)\n"
   ]
  },
  {
   "cell_type": "code",
   "execution_count": 9,
   "metadata": {},
   "outputs": [
    {
     "data": {
      "application/vnd.jupyter.widget-view+json": {
       "model_id": "d3e79b628de34127953f088bcce5e4f7",
       "version_major": 2,
       "version_minor": 0
      },
      "text/plain": [
       "VBox(children=(NGLWidget(), NGLWidget()))"
      ]
     },
     "metadata": {},
     "output_type": "display_data"
    }
   ],
   "source": [
    "import ipywidgets\n",
    "vbox = ipywidgets.VBox([view1, view2])\n",
    "vbox"
   ]
  },
  {
   "cell_type": "code",
   "execution_count": 10,
   "metadata": {},
   "outputs": [
    {
     "name": "stdout",
     "output_type": "stream",
     "text": [
      "./log.out\r\n",
      "./.ipynb_checkpoints\r\n",
      "./2ki5_mutated.pdb\r\n"
     ]
    }
   ],
   "source": [
    "#Clean the directory\n",
    "!find . ! -iname \"*.ipynb\" -exec rm -rf {} 2>/dev/null \\; -print"
   ]
  },
  {
   "cell_type": "code",
   "execution_count": null,
   "metadata": {},
   "outputs": [],
   "source": []
  }
 ],
 "metadata": {
  "kernelspec": {
   "display_name": "Python 3",
   "language": "python",
   "name": "python3"
  },
  "language_info": {
   "codemirror_mode": {
    "name": "ipython",
    "version": 3
   },
   "file_extension": ".py",
   "mimetype": "text/x-python",
   "name": "python",
   "nbconvert_exporter": "python",
   "pygments_lexer": "ipython3",
   "version": "3.5.5"
  }
 },
 "nbformat": 4,
 "nbformat_minor": 2
}
